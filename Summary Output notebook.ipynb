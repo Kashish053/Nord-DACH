{
 "cells": [
  {
   "cell_type": "code",
   "execution_count": 1,
   "id": "62510e1c",
   "metadata": {},
   "outputs": [],
   "source": [
    "import pandas as pd\n",
    "from pandas_datareader import data\n",
    "import matplotlib.pyplot as mp\n",
    "%matplotlib inline"
   ]
  },
  {
   "cell_type": "code",
   "execution_count": 2,
   "id": "8409625b",
   "metadata": {},
   "outputs": [],
   "source": [
    "s_read = pd.read_csv(\"btc 4.csv\")"
   ]
  },
  {
   "cell_type": "markdown",
   "id": "4311ea54",
   "metadata": {},
   "source": [
    "### Converting to Euro Method"
   ]
  },
  {
   "cell_type": "code",
   "execution_count": 3,
   "id": "70745369",
   "metadata": {},
   "outputs": [],
   "source": [
    "def convert_to_euro(number):\n",
    "    return number * 0.87"
   ]
  },
  {
   "cell_type": "code",
   "execution_count": 4,
   "id": "a139e2e3",
   "metadata": {},
   "outputs": [],
   "source": [
    "#apply it to the necessary columns\n",
    "columns = ['High','Low']\n",
    "for col in columns:\n",
    "    s_read[col]=s_read[col].apply(convert_to_euro)"
   ]
  },
  {
   "cell_type": "markdown",
   "id": "c0e02ed7",
   "metadata": {},
   "source": [
    "### Filter the Date and assigning it to new dataframe"
   ]
  },
  {
   "cell_type": "code",
   "execution_count": 6,
   "id": "d259a028",
   "metadata": {},
   "outputs": [],
   "source": [
    "s_filter_output = s_read.loc[(s_read['Date'] >= '2019-01-01')\n",
    "                     & (s_read['Date'] < '2019-12-31')]"
   ]
  },
  {
   "cell_type": "markdown",
   "id": "ccd12812",
   "metadata": {},
   "source": [
    "### Renaming the columns using mapper method and display the dataframe"
   ]
  },
  {
   "cell_type": "code",
   "execution_count": 8,
   "id": "c30b6c34",
   "metadata": {},
   "outputs": [
    {
     "name": "stderr",
     "output_type": "stream",
     "text": [
      "c:\\users\\3013011\\appdata\\local\\programs\\python\\python38\\lib\\site-packages\\pandas\\core\\frame.py:4300: SettingWithCopyWarning: \n",
      "A value is trying to be set on a copy of a slice from a DataFrame\n",
      "\n",
      "See the caveats in the documentation: https://pandas.pydata.org/pandas-docs/stable/user_guide/indexing.html#returning-a-view-versus-a-copy\n",
      "  return super().rename(\n"
     ]
    },
    {
     "data": {
      "text/html": [
       "<div>\n",
       "<style scoped>\n",
       "    .dataframe tbody tr th:only-of-type {\n",
       "        vertical-align: middle;\n",
       "    }\n",
       "\n",
       "    .dataframe tbody tr th {\n",
       "        vertical-align: top;\n",
       "    }\n",
       "\n",
       "    .dataframe thead th {\n",
       "        text-align: right;\n",
       "    }\n",
       "</style>\n",
       "<table border=\"1\" class=\"dataframe\">\n",
       "  <thead>\n",
       "    <tr style=\"text-align: right;\">\n",
       "      <th></th>\n",
       "      <th>Date</th>\n",
       "      <th>Open</th>\n",
       "      <th>High (Eur)</th>\n",
       "      <th>Low (Eur)</th>\n",
       "      <th>Close</th>\n",
       "      <th>Adj Close</th>\n",
       "      <th>Volume (Billion)</th>\n",
       "    </tr>\n",
       "  </thead>\n",
       "  <tbody>\n",
       "    <tr>\n",
       "      <th>1567</th>\n",
       "      <td>2019-01-01</td>\n",
       "      <td>3746.713379</td>\n",
       "      <td>3350.295022</td>\n",
       "      <td>3225.291145</td>\n",
       "      <td>3843.520020</td>\n",
       "      <td>3843.520020</td>\n",
       "      <td>4324200990</td>\n",
       "    </tr>\n",
       "    <tr>\n",
       "      <th>1568</th>\n",
       "      <td>2019-01-02</td>\n",
       "      <td>3849.216309</td>\n",
       "      <td>3434.743645</td>\n",
       "      <td>3321.146199</td>\n",
       "      <td>3943.409424</td>\n",
       "      <td>3943.409424</td>\n",
       "      <td>5244856835</td>\n",
       "    </tr>\n",
       "    <tr>\n",
       "      <th>1569</th>\n",
       "      <td>2019-01-03</td>\n",
       "      <td>3931.048584</td>\n",
       "      <td>3424.046001</td>\n",
       "      <td>3328.813923</td>\n",
       "      <td>3836.741211</td>\n",
       "      <td>3836.741211</td>\n",
       "      <td>4530215218</td>\n",
       "    </tr>\n",
       "    <tr>\n",
       "      <th>1570</th>\n",
       "      <td>2019-01-04</td>\n",
       "      <td>3832.040039</td>\n",
       "      <td>3363.363076</td>\n",
       "      <td>3291.952771</td>\n",
       "      <td>3857.717529</td>\n",
       "      <td>3857.717529</td>\n",
       "      <td>4847965467</td>\n",
       "    </tr>\n",
       "    <tr>\n",
       "      <th>1571</th>\n",
       "      <td>2019-01-05</td>\n",
       "      <td>3851.973877</td>\n",
       "      <td>3397.265676</td>\n",
       "      <td>3338.103127</td>\n",
       "      <td>3845.194580</td>\n",
       "      <td>3845.194580</td>\n",
       "      <td>5137609823</td>\n",
       "    </tr>\n",
       "  </tbody>\n",
       "</table>\n",
       "</div>"
      ],
      "text/plain": [
       "            Date         Open   High (Eur)    Low (Eur)        Close  \\\n",
       "1567  2019-01-01  3746.713379  3350.295022  3225.291145  3843.520020   \n",
       "1568  2019-01-02  3849.216309  3434.743645  3321.146199  3943.409424   \n",
       "1569  2019-01-03  3931.048584  3424.046001  3328.813923  3836.741211   \n",
       "1570  2019-01-04  3832.040039  3363.363076  3291.952771  3857.717529   \n",
       "1571  2019-01-05  3851.973877  3397.265676  3338.103127  3845.194580   \n",
       "\n",
       "        Adj Close  Volume (Billion)  \n",
       "1567  3843.520020        4324200990  \n",
       "1568  3943.409424        5244856835  \n",
       "1569  3836.741211        4530215218  \n",
       "1570  3857.717529        4847965467  \n",
       "1571  3845.194580        5137609823  "
      ]
     },
     "execution_count": 8,
     "metadata": {},
     "output_type": "execute_result"
    }
   ],
   "source": [
    "s_filter_output.rename(mapper ={'High':'High (Eur)','Low': 'Low (Eur)', 'Volume':'Volume (Billion)'},axis =1,inplace=True)\n",
    "s_filter_output.head(5)"
   ]
  },
  {
   "cell_type": "markdown",
   "id": "37e60d42",
   "metadata": {},
   "source": [
    "### aggregating, transpose and saving it to csv"
   ]
  },
  {
   "cell_type": "code",
   "execution_count": 9,
   "id": "04994609",
   "metadata": {},
   "outputs": [],
   "source": [
    "s_filter_output.agg({'High (Eur)':['min','max','mean'],'Low (Eur)':['min','max','mean'],'Volume (Billion)':['min','max','mean']}).transpose().to_csv('Summary Output')"
   ]
  },
  {
   "cell_type": "code",
   "execution_count": null,
   "id": "ea0755d2",
   "metadata": {},
   "outputs": [],
   "source": []
  }
 ],
 "metadata": {
  "kernelspec": {
   "display_name": "Python 3 (ipykernel)",
   "language": "python",
   "name": "python3"
  },
  "language_info": {
   "codemirror_mode": {
    "name": "ipython",
    "version": 3
   },
   "file_extension": ".py",
   "mimetype": "text/x-python",
   "name": "python",
   "nbconvert_exporter": "python",
   "pygments_lexer": "ipython3",
   "version": "3.8.8"
  }
 },
 "nbformat": 4,
 "nbformat_minor": 5
}
