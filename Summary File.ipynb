{
 "cells": [
  {
   "cell_type": "markdown",
   "id": "2ba98f1d",
   "metadata": {},
   "source": [
    "### Importing Modules"
   ]
  },
  {
   "cell_type": "code",
   "execution_count": 1,
   "id": "cc883171",
   "metadata": {},
   "outputs": [],
   "source": [
    "import pandas as pd\n",
    "from pandas_datareader import data\n",
    "import matplotlib.pyplot as mp\n",
    "%matplotlib inline"
   ]
  },
  {
   "cell_type": "markdown",
   "id": "c30c0865",
   "metadata": {},
   "source": [
    "### Reading and filtering based on dates"
   ]
  },
  {
   "cell_type": "code",
   "execution_count": 3,
   "id": "d928769a",
   "metadata": {},
   "outputs": [],
   "source": [
    "df = pd.read_csv(\"btc 4.csv\")\n",
    "\n",
    "df['Date']=pd.to_datetime(df['Date'],format='%Y-%m-%d')\n",
    "\n",
    "filtered_df = df.loc[(df['Date'] >= '2019-01-01')\n",
    "                     & (df['Date'] < '2019-12-31')]\n"
   ]
  },
  {
   "cell_type": "code",
   "execution_count": 8,
   "id": "35485073",
   "metadata": {},
   "outputs": [],
   "source": [
    "filtered_df.rename(columns = {'High':'High_Euro', 'Low':'Low_Euro'}, inplace = True)"
   ]
  },
  {
   "cell_type": "code",
   "execution_count": 5,
   "id": "16b251de",
   "metadata": {},
   "outputs": [],
   "source": [
    "def convert_to_euro(number):\n",
    "    return number * 0.87"
   ]
  },
  {
   "cell_type": "code",
   "execution_count": 9,
   "id": "db81c68e",
   "metadata": {},
   "outputs": [
    {
     "name": "stderr",
     "output_type": "stream",
     "text": [
      "C:\\Users\\3013011\\AppData\\Local\\Temp/ipykernel_20944/1598480969.py:3: SettingWithCopyWarning: \n",
      "A value is trying to be set on a copy of a slice from a DataFrame.\n",
      "Try using .loc[row_indexer,col_indexer] = value instead\n",
      "\n",
      "See the caveats in the documentation: https://pandas.pydata.org/pandas-docs/stable/user_guide/indexing.html#returning-a-view-versus-a-copy\n",
      "  filtered_df[col]=filtered_df[col].apply(convert_to_euro)\n"
     ]
    }
   ],
   "source": [
    "columns = ['High_Euro','Low_Euro']\n",
    "for col in columns:\n",
    "    filtered_df[col]=filtered_df[col].apply(convert_to_euro)\n"
   ]
  },
  {
   "cell_type": "markdown",
   "id": "6c272cd4",
   "metadata": {},
   "source": [
    "### Sorting it descending and removing the index"
   ]
  },
  {
   "cell_type": "code",
   "execution_count": 10,
   "id": "11ae6bee",
   "metadata": {},
   "outputs": [
    {
     "name": "stderr",
     "output_type": "stream",
     "text": [
      "C:\\Users\\3013011\\AppData\\Local\\Temp/ipykernel_20944/2153886590.py:1: SettingWithCopyWarning: \n",
      "A value is trying to be set on a copy of a slice from a DataFrame\n",
      "\n",
      "See the caveats in the documentation: https://pandas.pydata.org/pandas-docs/stable/user_guide/indexing.html#returning-a-view-versus-a-copy\n",
      "  filtered_df.sort_values('Date', ascending=False,inplace=True)\n"
     ]
    }
   ],
   "source": [
    "filtered_df.sort_values('Date', ascending=False,inplace=True)\n",
    "filtered_df[['Date','Volume','High_Euro','Low_Euro']].to_csv('Summary File',index=False)"
   ]
  },
  {
   "cell_type": "code",
   "execution_count": null,
   "id": "fafb620c",
   "metadata": {},
   "outputs": [],
   "source": []
  }
 ],
 "metadata": {
  "kernelspec": {
   "display_name": "Python 3 (ipykernel)",
   "language": "python",
   "name": "python3"
  },
  "language_info": {
   "codemirror_mode": {
    "name": "ipython",
    "version": 3
   },
   "file_extension": ".py",
   "mimetype": "text/x-python",
   "name": "python",
   "nbconvert_exporter": "python",
   "pygments_lexer": "ipython3",
   "version": "3.8.8"
  }
 },
 "nbformat": 4,
 "nbformat_minor": 5
}
